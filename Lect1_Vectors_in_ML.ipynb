{
  "nbformat": 4,
  "nbformat_minor": 0,
  "metadata": {
    "colab": {
      "name": "Lect1-Vectors in ML.ipynb",
      "provenance": [],
      "collapsed_sections": [],
      "authorship_tag": "ABX9TyPHkiAK7AGcPwpLReF3pT7D",
      "include_colab_link": true
    },
    "kernelspec": {
      "name": "python3",
      "display_name": "Python 3"
    },
    "language_info": {
      "name": "python"
    }
  },
  "cells": [
    {
      "cell_type": "markdown",
      "metadata": {
        "id": "view-in-github",
        "colab_type": "text"
      },
      "source": [
        "<a href=\"https://colab.research.google.com/github/Leovattoly/A-Comparative-Study-on-Unsupervised-Clustering-Machine-Learning/blob/main/Lect1_Vectors_in_ML.ipynb\" target=\"_parent\"><img src=\"https://colab.research.google.com/assets/colab-badge.svg\" alt=\"Open In Colab\"/></a>"
      ]
    },
    {
      "cell_type": "code",
      "metadata": {
        "colab": {
          "base_uri": "https://localhost:8080/"
        },
        "id": "fJxN87G8b88E",
        "outputId": "af0d0e0b-551e-4b72-bfce-8df8d3da0566"
      },
      "source": [
        "# adding two vectors\n",
        "print(v1+v2)"
      ],
      "execution_count": null,
      "outputs": [
        {
          "output_type": "stream",
          "name": "stdout",
          "text": [
            "[5 7 9]\n"
          ]
        }
      ]
    },
    {
      "cell_type": "code",
      "metadata": {
        "id": "RIjlkleHbe5o"
      },
      "source": [
        "import numpy as np\n",
        "\n",
        "v1 = np.array([1,2,3])\n",
        "v2 = np.array([4,5,6])"
      ],
      "execution_count": null,
      "outputs": []
    },
    {
      "cell_type": "code",
      "metadata": {
        "colab": {
          "base_uri": "https://localhost:8080/"
        },
        "id": "x0t82naqcM-O",
        "outputId": "40227ed3-cd8b-45f1-fc6f-22cbcf3c7dd3"
      },
      "source": [
        "# sustracting 2 vectors\n",
        "\n",
        "print(v2-v1)"
      ],
      "execution_count": null,
      "outputs": [
        {
          "output_type": "stream",
          "name": "stdout",
          "text": [
            "[3 3 3]\n"
          ]
        }
      ]
    },
    {
      "cell_type": "code",
      "metadata": {
        "colab": {
          "base_uri": "https://localhost:8080/"
        },
        "id": "_22rcYgFcXKs",
        "outputId": "cfe7f4e0-c396-44d5-866a-3add89443b47"
      },
      "source": [
        "# finding the length / magnitude of a vector\n",
        "\n",
        "print(np.linalg.norm(v1))"
      ],
      "execution_count": null,
      "outputs": [
        {
          "output_type": "stream",
          "name": "stdout",
          "text": [
            "3.7416573867739413\n"
          ]
        }
      ]
    },
    {
      "cell_type": "code",
      "metadata": {
        "colab": {
          "base_uri": "https://localhost:8080/"
        },
        "id": "EWHR38Q4cz6_",
        "outputId": "9677e0f2-2929-414b-f0d4-27a02423063a"
      },
      "source": [
        "# dot product of v1 and v2\n",
        "\n",
        "s = np.dot(v1,v2)\n",
        "print(\"Dot product: \",s)"
      ],
      "execution_count": null,
      "outputs": [
        {
          "output_type": "stream",
          "name": "stdout",
          "text": [
            "Dot product:  32\n"
          ]
        }
      ]
    }
  ]
}